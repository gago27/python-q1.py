{
  "nbformat": 4,
  "nbformat_minor": 0,
  "metadata": {
    "colab": {
      "name": "q09.py",
      "version": "0.3.2",
      "provenance": [],
      "include_colab_link": true
    },
    "kernelspec": {
      "name": "python3",
      "display_name": "Python 3"
    }
  },
  "cells": [
    {
      "cell_type": "markdown",
      "metadata": {
        "id": "view-in-github",
        "colab_type": "text"
      },
      "source": [
        "<a href=\"https://colab.research.google.com/github/gago27/python-q1.py/blob/master/q09_py.ipynb\" target=\"_parent\"><img src=\"https://colab.research.google.com/assets/colab-badge.svg\" alt=\"Open In Colab\"/></a>"
      ]
    },
    {
      "cell_type": "code",
      "metadata": {
        "id": "WUb4zyJt8TAk",
        "colab_type": "code",
        "colab": {}
      },
      "source": [
        "\n",
        "##\n",
        "## Genere una lista de tuplas, donde cada tupla contiene en la primera \n",
        "## posicion, el valor de la segunda columna; la segunda parte de la \n",
        "## tupla es una lista con las letras (ordenadas y sin repetir letra) \n",
        "## de la primera  columna que aparecen asociadas a dicho valor de la \n",
        "## segunda columna. Esto es:\n",
        "##\n",
        "## ('0', ['C'])\n",
        "## ('1', ['A', 'B', 'D', 'E'])\n",
        "## ('2', ['A', 'D', 'E'])\n",
        "## ('3', ['A', 'B', 'D', 'E'])\n",
        "## ('4', ['B', 'E'])\n",
        "## ('5', ['B', 'C', 'D', 'E'])\n",
        "## ('6', ['A', 'B', 'C', 'E'])\n",
        "## ('7', ['A', 'C', 'D', 'E'])\n",
        "## ('8', ['A', 'B', 'E'])\n",
        "## ('9', ['A', 'B', 'C', 'E'])\n",
        "##\n",
        "##\n",
        "import glob\n",
        "filenames = glob.glob(\"data.csv\")\n",
        "data= open(\"data.csv\", \"r\").readlines()\n",
        "data = [line.replace(\"\\t\",\",\") for line in data]\n",
        "data = [line.split(\",\") for line in data]\n",
        "data = sorted([[line[1], line[0]] for line in data])\n",
        "datas = set([line[0] for line in data])\n",
        "uno = []\n",
        "for num in datas:\n",
        "  x = [num]\n",
        "  y = []\n",
        "  \n",
        "  for ind in data:\n",
        "    \n",
        "    if num == ind[0]:\n",
        "      y.append(ind[1])\n",
        "  y = set(y)\n",
        "  for line in y:\n",
        "    x = sorted(x+[line])\n",
        "  uno = uno+[x]\n",
        "uno = sorted(uno)\n",
        "for row in uno:\n",
        "  dos = row[1:]\n",
        "  tres=(row[0],dos)\n",
        "  print(tres)"
      ],
      "execution_count": 0,
      "outputs": []
    }
  ]
}