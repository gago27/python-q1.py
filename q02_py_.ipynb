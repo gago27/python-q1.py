{
  "nbformat": 4,
  "nbformat_minor": 0,
  "metadata": {
    "colab": {
      "name": "q02.py.",
      "version": "0.3.2",
      "provenance": [],
      "include_colab_link": true
    },
    "kernelspec": {
      "name": "python3",
      "display_name": "Python 3"
    }
  },
  "cells": [
    {
      "cell_type": "markdown",
      "metadata": {
        "id": "view-in-github",
        "colab_type": "text"
      },
      "source": [
        "<a href=\"https://colab.research.google.com/github/gago27/python-q1.py/blob/master/q02_py_.ipynb\" target=\"_parent\"><img src=\"https://colab.research.google.com/assets/colab-badge.svg\" alt=\"Open In Colab\"/></a>"
      ]
    },
    {
      "cell_type": "code",
      "metadata": {
        "id": "J-Yjo8K2r2dk",
        "colab_type": "code",
        "outputId": "b6081b0c-4041-446d-b7a3-c1097d924f04",
        "colab": {
          "base_uri": "https://localhost:8080/",
          "height": 102
        }
      },
      "source": [
        "##\n",
        "## Imprima la cantidad de registros por letra para la \n",
        "## primera columna, ordenados alfabeticamente.\n",
        "##\n",
        "## A,8\n",
        "## B,7\n",
        "## C,5\n",
        "## D,6\n",
        "## E,14\n",
        "##\n",
        "import glob\n",
        "filenames = glob.glob(\"data.csv\")\n",
        "data = open(\"data.csv\",\"r\").readlines()\n",
        "data = [line[:-1] for line in data]\n",
        "data = [line.replace(\"\\t\", \",\") for line in data]\n",
        "data = [line.split(\",\") for line in data]\n",
        "data = [line[0] for line in data]\n",
        "datas = set([line[0] for line in data])\n",
        "b = []\n",
        "for i in datas:\n",
        "  a = 0\n",
        "  for m in data:\n",
        "    if i == m:\n",
        "      a = a+1\n",
        "  b.append((i,a))\n",
        "b = sorted(b)\n",
        "for h in range(0, len(b)):\n",
        "  print(b[h])"
      ],
      "execution_count": 0,
      "outputs": [
        {
          "output_type": "stream",
          "text": [
            "('A', 8)\n",
            "('B', 7)\n",
            "('C', 5)\n",
            "('D', 6)\n",
            "('E', 14)\n"
          ],
          "name": "stdout"
        }
      ]
    },
    {
      "cell_type": "code",
      "metadata": {
        "id": "VDiAAhpeapy-",
        "colab_type": "code",
        "outputId": "b52c2019-d479-4565-d658-5d8f80cb080b",
        "colab": {
          "base_uri": "https://localhost:8080/",
          "height": 34
        }
      },
      "source": [
        "print(b)\n"
      ],
      "execution_count": 0,
      "outputs": [
        {
          "output_type": "stream",
          "text": [
            "[('A', 8), ('B', 7), ('C', 5), ('D', 6), ('E', 14)]\n"
          ],
          "name": "stdout"
        }
      ]
    }
  ]
}