{
  "nbformat": 4,
  "nbformat_minor": 0,
  "metadata": {
    "colab": {
      "name": "q10.py",
      "version": "0.3.2",
      "provenance": [],
      "include_colab_link": true
    },
    "kernelspec": {
      "name": "python3",
      "display_name": "Python 3"
    }
  },
  "cells": [
    {
      "cell_type": "markdown",
      "metadata": {
        "id": "view-in-github",
        "colab_type": "text"
      },
      "source": [
        "<a href=\"https://colab.research.google.com/github/gago27/python-q1.py/blob/master/q10_py.ipynb\" target=\"_parent\"><img src=\"https://colab.research.google.com/assets/colab-badge.svg\" alt=\"Open In Colab\"/></a>"
      ]
    },
    {
      "cell_type": "code",
      "metadata": {
        "id": "KsNeDeI58LFf",
        "colab_type": "code",
        "colab": {}
      },
      "source": [
        "    \n",
        "##\n",
        "## Imprima una tabla en formato CSV que contenga por cada clave \n",
        "## de la columna 5, la correspondiente cantidad de registros \n",
        "## asociados (filas en el archivo)\n",
        "##\n",
        "## aaa,13\n",
        "## bbb,16\n",
        "## ccc,23\n",
        "## ddd,23\n",
        "## eee,15\n",
        "## fff,20\n",
        "## ggg,13\n",
        "## hhh,16\n",
        "## iii,18\n",
        "## jjj,18\n",
        "##\n",
        "##\n",
        "import glob\n",
        "import csv \n",
        "filenames = glob.glob(\"data.csv\")\n",
        "data = open(\"data.csv\", \"r\").readlines()\n",
        "data = [line[:-1] for line in data]\n",
        "data = [line.replace(\"\\t\",\",\") for line in data]\n",
        "data = [line.split(\",\") for line in data]\n",
        "data = [line[5:] for line in data]\n",
        "data = [[row for row in line if len(row)==5] for line in data]\n",
        "data = [[row[0:3] for row in line] for line in data]\n",
        "datas = []\n",
        "for line in data:\n",
        "  for row in line:\n",
        "    datas.append(row)\n",
        "datas = sorted(datas)\n",
        "datas0 = set(datas)\n",
        "datas0 = [line for line in datas0]\n",
        "datas0 = sorted(datas0)\n",
        "tabla=[]\n",
        "for a in datas0:\n",
        "  b = datas.count(a)\n",
        "  fila=[a,b]\n",
        "  tabla= tabla+[fila]\n",
        "\n",
        "file2 = glob.glob(\"data1.csv*\")\n",
        "data1 = open(\"data1.csv\", \"w\")\n",
        "x = csv.writer(data1, delimiter=\",\",quoting=csv.QUOTE_NONNUMERIC)\n",
        "for i in range(len(tabla)):\n",
        "  x.writerow(tabla[i])\n",
        "print(open(\"data1.csv\",\"r\").read())\n"
      ],
      "execution_count": 0,
      "outputs": []
    }
  ]
}