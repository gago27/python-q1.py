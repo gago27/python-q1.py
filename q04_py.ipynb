{
  "nbformat": 4,
  "nbformat_minor": 0,
  "metadata": {
    "colab": {
      "name": "q04.py",
      "version": "0.3.2",
      "provenance": [],
      "include_colab_link": true
    },
    "kernelspec": {
      "name": "python3",
      "display_name": "Python 3"
    }
  },
  "cells": [
    {
      "cell_type": "markdown",
      "metadata": {
        "id": "view-in-github",
        "colab_type": "text"
      },
      "source": [
        "<a href=\"https://colab.research.google.com/github/gago27/python-q1.py/blob/master/q04_py.ipynb\" target=\"_parent\"><img src=\"https://colab.research.google.com/assets/colab-badge.svg\" alt=\"Open In Colab\"/></a>"
      ]
    },
    {
      "cell_type": "code",
      "metadata": {
        "id": "TlMDHUIKp9tz",
        "colab_type": "code",
        "colab": {}
      },
      "source": [
        "##\n",
        "## Imprima la cantidad de registros por cada mes.\n",
        "##\n",
        "## 01,3\n",
        "## 02,4\n",
        "## 03,2\n",
        "## 04,4\n",
        "## 05,3\n",
        "## 06,3\n",
        "## 07,5\n",
        "## 08,6\n",
        "## 09,3\n",
        "## 10,2\n",
        "## 11,2\n",
        "## 12,3\n",
        "##\n",
        "import glob\n",
        "filenames = glob.glob(\"data.csv\")\n",
        "data = open(\"data.csv\",\"r\").readlines()\n",
        "data = [line[:-1] for line in data]\n",
        "data = [line.replace(\"\\t\",\",\") for line in data]\n",
        "data = [line.split(\",\") for line in data]\n",
        "datas = [line[2] for line in data]\n",
        "datas = sorted([dates[5:7] for dates in datas])\n",
        "datas0 = set(datas)\n",
        "h = []\n",
        "for i in datas0:\n",
        "  j = [i]\n",
        "  a = 0\n",
        "  for m in datas:\n",
        "    if m == i:\n",
        "      a = a+1\n",
        "  j= j+[a]\n",
        "  h = sorted(h+[j])\n",
        "for q in h:\n",
        "  resp=str(q[0])+\",\"+str(q[1])\n",
        "  print(resp)"
      ],
      "execution_count": 0,
      "outputs": []
    }
  ]
}