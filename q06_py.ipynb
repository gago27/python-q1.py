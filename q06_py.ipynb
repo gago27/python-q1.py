{
  "nbformat": 4,
  "nbformat_minor": 0,
  "metadata": {
    "colab": {
      "name": "q06.py",
      "version": "0.3.2",
      "provenance": [],
      "include_colab_link": true
    },
    "kernelspec": {
      "name": "python3",
      "display_name": "Python 3"
    }
  },
  "cells": [
    {
      "cell_type": "markdown",
      "metadata": {
        "id": "view-in-github",
        "colab_type": "text"
      },
      "source": [
        "<a href=\"https://colab.research.google.com/github/gago27/python-q1.py/blob/master/q06_py.ipynb\" target=\"_parent\"><img src=\"https://colab.research.google.com/assets/colab-badge.svg\" alt=\"Open In Colab\"/></a>"
      ]
    },
    {
      "cell_type": "code",
      "metadata": {
        "id": "X5MXkbe_kx2m",
        "colab_type": "code",
        "outputId": "c71a25ee-8323-4c2e-ee3d-b4d5e41bd0c0",
        "colab": {
          "base_uri": "https://localhost:8080/",
          "height": 187
        }
      },
      "source": [
        "##\n",
        "## Por cada clave de la columna 5 (cadena de tres letras), obtenga\n",
        "## el valor mas pequeño y el valor mas grande asociado a esa clave.\n",
        "##\n",
        "## aaa,0,6\n",
        "## bbb,4,7\n",
        "## ccc,0,1\n",
        "## ddd,5,5\n",
        "## eee,0,0\n",
        "## fff,4,9\n",
        "## ggg,3,3\n",
        "## hhh,6,8\n",
        "## iii,2,7\n",
        "## jjj,2,5\n",
        "##\n",
        "import glob\n",
        "filenames=glob.glob(\"data.csv\")\n",
        "data = open(\"data.csv\", \"r\").readlines()\n",
        "data = [line[:-1] for line in data]\n",
        "data = [line.replace(\"\\t\", \",\") for line in data]\n",
        "data = [line.split(\",\") for line in data]\n",
        "data = [line[5:] for line in data]\n",
        "datas=[]\n",
        "for line in data:\n",
        "  row = []\n",
        "  for x in line:\n",
        "    if len(x)==5:\n",
        "      row.append(x)\n",
        "  datas.append(row)\n",
        "datas0 = []\n",
        "for i in datas:\n",
        "  for a in i:\n",
        "    datas0.append(a)\n",
        "datas0 = sorted(datas0)\n",
        "datas1 = []\n",
        "datas2=[line.replace(\":\",\",\") for line in datas0]\n",
        "datas2=[line.split(\",\") for line in datas2]\n",
        "otro = set([line[0]for line in datas2])\n",
        "nuevo = []\n",
        "for x in otro:\n",
        "  let=[x]\n",
        "  for este in datas2:\n",
        "    if este[0]==x:\n",
        "      let.append(este[1])\n",
        "  nuevo= nuevo+[let]\n",
        "an= []\n",
        "for fila in nuevo:\n",
        "  casi = [fila[0], min(fila), max(fila[1:])]\n",
        "  an= an + [casi]\n",
        "an = sorted(an) \n",
        "for y in an:\n",
        "  resp= y[0]+\",\"+y[1]+\",\"+y[2]\n",
        "  print(resp)\n",
        "\n",
        "\n"
      ],
      "execution_count": 0,
      "outputs": [
        {
          "output_type": "stream",
          "text": [
            "aaa,0,9\n",
            "bbb,0,9\n",
            "ccc,0,9\n",
            "ddd,0,9\n",
            "eee,0,7\n",
            "fff,0,9\n",
            "ggg,0,9\n",
            "hhh,0,9\n",
            "iii,0,9\n",
            "jjj,0,9\n"
          ],
          "name": "stdout"
        }
      ]
    },
    {
      "cell_type": "code",
      "metadata": {
        "id": "d4vnUe6pOkiZ",
        "colab_type": "code",
        "outputId": "8eeb5146-3eca-4aa0-d18f-d8ce25ae5518",
        "colab": {
          "base_uri": "https://localhost:8080/",
          "height": 187
        }
      },
      "source": [
        "an"
      ],
      "execution_count": 0,
      "outputs": [
        {
          "output_type": "execute_result",
          "data": {
            "text/plain": [
              "[['aaa', '0', '9'],\n",
              " ['bbb', '0', '9'],\n",
              " ['ccc', '0', '9'],\n",
              " ['ddd', '0', '9'],\n",
              " ['eee', '0', '7'],\n",
              " ['fff', '0', '9'],\n",
              " ['ggg', '0', '9'],\n",
              " ['hhh', '0', '9'],\n",
              " ['iii', '0', '9'],\n",
              " ['jjj', '0', '9']]"
            ]
          },
          "metadata": {
            "tags": []
          },
          "execution_count": 143
        }
      ]
    },
    {
      "cell_type": "code",
      "metadata": {
        "id": "GERAfp_2APc6",
        "colab_type": "code",
        "colab": {}
      },
      "source": [
        "for a in datas0:\n",
        "  k=[a]\n",
        "  for b in datas:\n",
        "    if a == b[0]:\n",
        "      k.append(b[1])\n",
        "  grupo.append(k)\n",
        "nuevo=[]\n",
        "for ren in grupo:\n",
        "  h =[ren[0],min(ren[1:]),max(ren[1:])]\n",
        "  nuevo= nuevo+[h]\n",
        "nuevo = sorted(nuevo)\n",
        "for lin in nuevo:\n",
        "  resp = lin[0]+\",\"+lin[1]+\",\"+lin[2]\n"
      ],
      "execution_count": 0,
      "outputs": []
    },
    {
      "cell_type": "code",
      "metadata": {
        "id": "JxwASa82m0Xn",
        "colab_type": "code",
        "outputId": "4b9608ff-812f-48ac-f6d8-3d65e9c567c8",
        "colab": {
          "base_uri": "https://localhost:8080/",
          "height": 34
        }
      },
      "source": [
        "datas"
      ],
      "execution_count": 0,
      "outputs": [
        {
          "output_type": "execute_result",
          "data": {
            "text/plain": [
              "9520000.0"
            ]
          },
          "metadata": {
            "tags": []
          },
          "execution_count": 107
        }
      ]
    }
  ]
}