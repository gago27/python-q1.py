{
  "nbformat": 4,
  "nbformat_minor": 0,
  "metadata": {
    "colab": {
      "name": "q08.py",
      "version": "0.3.2",
      "provenance": [],
      "include_colab_link": true
    },
    "kernelspec": {
      "name": "python3",
      "display_name": "Python 3"
    }
  },
  "cells": [
    {
      "cell_type": "markdown",
      "metadata": {
        "id": "view-in-github",
        "colab_type": "text"
      },
      "source": [
        "<a href=\"https://colab.research.google.com/github/gago27/python-q1.py/blob/master/q08_py.ipynb\" target=\"_parent\"><img src=\"https://colab.research.google.com/assets/colab-badge.svg\" alt=\"Open In Colab\"/></a>"
      ]
    },
    {
      "cell_type": "code",
      "metadata": {
        "id": "2VmA5r-P0rWz",
        "colab_type": "code",
        "colab": {}
      },
      "source": [
        "##\n",
        "## Genere una lista de tuplas, donde cada tupla contiene en la primera \n",
        "## posicion, el valor de la segunda columna; la segunda parte de la \n",
        "## tupla es una lista con las letras (ordenadas) de la primera \n",
        "## columna que aparecen asociadas a dicho valor de la segunda \n",
        "## columna. Esto es:\n",
        "##\n",
        "## ('0', ['C'])\n",
        "## ('1', ['A', 'A', 'B', 'D', 'E', 'E'])\n",
        "## ('2', ['A', 'D', 'E'])\n",
        "## ('3', ['A', 'B', 'D', 'E', 'E'])\n",
        "## ('4', ['B', 'E'])\n",
        "## ('5', ['B', 'C', 'D', 'D', 'E', 'E', 'E'])\n",
        "## ('6', ['A', 'B', 'C', 'E'])\n",
        "## ('7', ['A', 'C', 'D', 'E'])\n",
        "## ('8', ['A', 'B', 'E', 'E'])\n",
        "## ('9', ['A', 'B', 'C', 'E'])\n",
        "##\n",
        "##\n",
        "import glob\n",
        "filenames = glob.glob(\"data.csv\")\n",
        "data = open(\"data.csv\", \"r\").readlines()\n",
        "data = [line[:-1] for line in data]\n",
        "data = [line.replace(\"\\t\",\",\") for line in data]\n",
        "data = [line.split(\",\") for line in data]\n",
        "data = sorted([[line[1], line[0]] for line in data])\n",
        "datas = set([line[0] for line in data])\n",
        "uno = []\n",
        "for num in datas:\n",
        "  x = [num]\n",
        "  for ind in data:\n",
        "    if num == ind[0]:\n",
        "      x.append(ind[1])\n",
        "  x = [y for y in x]\n",
        "  uno = uno+[x]\n",
        "cuatro = [line[0] for line in uno]\n",
        "cinco = [line[1:] for line in uno]\n",
        "dos=[]\n",
        "for i in range(0, len(uno)):\n",
        "  tres= (cuatro[i], cinco[i])\n",
        "  dos = dos+[tres]\n",
        "dos = sorted(dos)\n",
        "for line in dos:\n",
        "  print(line) "
      ],
      "execution_count": 0,
      "outputs": []
    }
  ]
}