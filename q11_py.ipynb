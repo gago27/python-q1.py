{
  "nbformat": 4,
  "nbformat_minor": 0,
  "metadata": {
    "colab": {
      "name": "q11.py",
      "version": "0.3.2",
      "provenance": [],
      "include_colab_link": true
    },
    "kernelspec": {
      "name": "python3",
      "display_name": "Python 3"
    }
  },
  "cells": [
    {
      "cell_type": "markdown",
      "metadata": {
        "id": "view-in-github",
        "colab_type": "text"
      },
      "source": [
        "<a href=\"https://colab.research.google.com/github/gago27/python-q1.py/blob/master/q11_py.ipynb\" target=\"_parent\"><img src=\"https://colab.research.google.com/assets/colab-badge.svg\" alt=\"Open In Colab\"/></a>"
      ]
    },
    {
      "cell_type": "code",
      "metadata": {
        "id": "CSAtlbZZeAgH",
        "colab_type": "code",
        "colab": {
          "base_uri": "https://localhost:8080/",
          "height": 714
        },
        "outputId": "96df0384-61ee-41f4-ac4d-7eb52dfb0c56"
      },
      "source": [
        "##\n",
        "## Imprima una tabla en formato CSV que contenga por registro,\n",
        "## la cantidad de elementos de las columnas 4 y 5\n",
        "## (filas en el archivo)\n",
        "##\n",
        "## E,3,5\n",
        "## A,3,4\n",
        "## B,4,4\n",
        "## ...\n",
        "## C,4,3\n",
        "## E,2,3\n",
        "## E,3,3\n",
        "##\n",
        "import glob\n",
        "import csv\n",
        "filenames= glob.glob(\"data.csv\")\n",
        "data= open(\"data.csv\", \"r\").readlines()\n",
        "data= [line[:-1] for line in data]\n",
        "data = [line.replace(\"\\t\", \",\") for line in data]\n",
        "data= [line.split(\",\") for line in data]\n",
        "datas2= [line[0] for line in data]\n",
        "datas= [line[3:] for line in data]\n",
        "datas1= [[row for row in line if len(row)==1] for line in datas]\n",
        "datas3= [[row for row in line if len(row)==5] for line in datas]\n",
        "datas4= [[datas2[i],len(datas1[i]),len(datas3[i])] for i in range(len(datas))]\n",
        "\n",
        "file= glob.glob(\"respuesta.csv\")\n",
        "files= open(\"respuesta.csv\", \"w\")\n",
        "x = csv.writer(files, delimiter=\",\", quoting=csv.QUOTE_NONNUMERIC)\n",
        "for i in range(len(datas4)):\n",
        "  x.writerow(datas4[i])\n",
        "print(open(\"respuesta.csv\",\"r\").read())"
      ],
      "execution_count": 31,
      "outputs": [
        {
          "output_type": "stream",
          "text": [
            "\"E\",3,5\n",
            "\"A\",3,4\n",
            "\"B\",4,4\n",
            "\"A\",2,4\n",
            "\"C\",4,4\n",
            "\"A\",2,5\n",
            "\"A\",3,6\n",
            "\"B\",2,3\n",
            "\"E\",4,6\n",
            "\"B\",4,6\n",
            "\"C\",4,5\n",
            "\"C\",4,3\n",
            "\"D\",4,5\n",
            "\"E\",2,3\n",
            "\"B\",2,5\n",
            "\"D\",2,4\n",
            "\"E\",3,6\n",
            "\"D\",2,3\n",
            "\"E\",4,3\n",
            "\"E\",2,3\n",
            "\"E\",2,3\n",
            "\"E\",3,3\n",
            "\"D\",3,3\n",
            "\"A\",3,5\n",
            "\"E\",2,6\n",
            "\"E\",3,6\n",
            "\"A\",3,3\n",
            "\"E\",3,5\n",
            "\"A\",2,5\n",
            "\"C\",4,6\n",
            "\"A\",2,5\n",
            "\"D\",2,6\n",
            "\"E\",2,4\n",
            "\"B\",3,6\n",
            "\"B\",3,5\n",
            "\"D\",2,3\n",
            "\"B\",2,5\n",
            "\"C\",4,3\n",
            "\"E\",2,3\n",
            "\"E\",3,3\n",
            "\n"
          ],
          "name": "stdout"
        }
      ]
    },
    {
      "cell_type": "code",
      "metadata": {
        "id": "QA0pOqorimIn",
        "colab_type": "code",
        "colab": {
          "base_uri": "https://localhost:8080/",
          "height": 697
        },
        "outputId": "7e60a6e3-62b3-41c5-a0fc-a82dde557de3"
      },
      "source": [
        "datas4"
      ],
      "execution_count": 28,
      "outputs": [
        {
          "output_type": "execute_result",
          "data": {
            "text/plain": [
              "[['E', 3, 5],\n",
              " ['A', 3, 4],\n",
              " ['B', 4, 4],\n",
              " ['A', 2, 4],\n",
              " ['C', 4, 4],\n",
              " ['A', 2, 5],\n",
              " ['A', 3, 6],\n",
              " ['B', 2, 3],\n",
              " ['E', 4, 6],\n",
              " ['B', 4, 6],\n",
              " ['C', 4, 5],\n",
              " ['C', 4, 3],\n",
              " ['D', 4, 5],\n",
              " ['E', 2, 3],\n",
              " ['B', 2, 5],\n",
              " ['D', 2, 4],\n",
              " ['E', 3, 6],\n",
              " ['D', 2, 3],\n",
              " ['E', 4, 3],\n",
              " ['E', 2, 3],\n",
              " ['E', 2, 3],\n",
              " ['E', 3, 3],\n",
              " ['D', 3, 3],\n",
              " ['A', 3, 5],\n",
              " ['E', 2, 6],\n",
              " ['E', 3, 6],\n",
              " ['A', 3, 3],\n",
              " ['E', 3, 5],\n",
              " ['A', 2, 5],\n",
              " ['C', 4, 6],\n",
              " ['A', 2, 5],\n",
              " ['D', 2, 6],\n",
              " ['E', 2, 4],\n",
              " ['B', 3, 6],\n",
              " ['B', 3, 5],\n",
              " ['D', 2, 3],\n",
              " ['B', 2, 5],\n",
              " ['C', 4, 3],\n",
              " ['E', 2, 3],\n",
              " ['E', 3, 3]]"
            ]
          },
          "metadata": {
            "tags": []
          },
          "execution_count": 28
        }
      ]
    },
    {
      "cell_type": "code",
      "metadata": {
        "id": "WG1rJp_BiSQp",
        "colab_type": "code",
        "colab": {}
      },
      "source": [
        "datas2"
      ],
      "execution_count": 0,
      "outputs": []
    },
    {
      "cell_type": "code",
      "metadata": {
        "id": "JT-OQqMChkCR",
        "colab_type": "code",
        "colab": {}
      },
      "source": [
        "datas1"
      ],
      "execution_count": 0,
      "outputs": []
    }
  ]
}