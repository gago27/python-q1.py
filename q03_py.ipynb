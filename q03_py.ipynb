{
  "nbformat": 4,
  "nbformat_minor": 0,
  "metadata": {
    "colab": {
      "name": "q03.py",
      "version": "0.3.2",
      "provenance": [],
      "include_colab_link": true
    },
    "kernelspec": {
      "name": "python3",
      "display_name": "Python 3"
    }
  },
  "cells": [
    {
      "cell_type": "markdown",
      "metadata": {
        "id": "view-in-github",
        "colab_type": "text"
      },
      "source": [
        "<a href=\"https://colab.research.google.com/github/gago27/python-q1.py/blob/master/q03_py.ipynb\" target=\"_parent\"><img src=\"https://colab.research.google.com/assets/colab-badge.svg\" alt=\"Open In Colab\"/></a>"
      ]
    },
    {
      "cell_type": "code",
      "metadata": {
        "id": "tTBocA_B9AiH",
        "colab_type": "code",
        "colab": {}
      },
      "source": [
        "##\n",
        "## Imprima la suma de la columna 2 por cada letra de la \n",
        "## primera columna, ordneados alfabeticamente.\n",
        "##\n",
        "## A,37\n",
        "## B,36\n",
        "## C,27\n",
        "## D,23\n",
        "## E,67\n",
        "##\n",
        "import glob\n",
        "filenames = glob.glob(\"data.csv\")\n",
        "data = open(\"data.csv\",\"r\").readlines()\n",
        "data = [line[:-1] for line in data]\n",
        "data = [line.replace(\"\\t\",\",\") for line in data]\n",
        "data = [line.split(\",\") for line in data]\n",
        "data = [[line[0], line[1]] for line in data]\n",
        "data = sorted(data)\n",
        "datas = set([line[0] for line in data])\n",
        "datas0 = []\n",
        "h =[]\n",
        "for i in datas:\n",
        "  a = 0\n",
        "  for m in data:\n",
        "    if m[0] == i:\n",
        "      a = a + int(m[1])\n",
        "  h = h +[[i, a]]\n",
        "datas0= datas0 + h\n",
        "datas0 = sorted(datas0)\n",
        "for q in datas0:\n",
        "  resp = str(q[0])+\",\"+str(q[1])\n",
        "  print(resp)"
      ],
      "execution_count": 0,
      "outputs": []
    }
  ]
}