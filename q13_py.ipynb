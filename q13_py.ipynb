{
  "nbformat": 4,
  "nbformat_minor": 0,
  "metadata": {
    "colab": {
      "name": "q13.py",
      "version": "0.3.2",
      "provenance": [],
      "include_colab_link": true
    },
    "kernelspec": {
      "name": "python3",
      "display_name": "Python 3"
    }
  },
  "cells": [
    {
      "cell_type": "markdown",
      "metadata": {
        "id": "view-in-github",
        "colab_type": "text"
      },
      "source": [
        "<a href=\"https://colab.research.google.com/github/gago27/python-q1.py/blob/master/q13_py.ipynb\" target=\"_parent\"><img src=\"https://colab.research.google.com/assets/colab-badge.svg\" alt=\"Open In Colab\"/></a>"
      ]
    },
    {
      "cell_type": "code",
      "metadata": {
        "id": "uA8-77qQbgpO",
        "colab_type": "code",
        "colab": {}
      },
      "source": [
        "    \n",
        "##\n",
        "## Imprima por cada fila, la columna 1 y la suma de los valores\n",
        "## de la columna 5\n",
        "##\n",
        "## E,22\n",
        "## A,14\n",
        "## B,14\n",
        "## ....\n",
        "## C,8\n",
        "## E,11\n",
        "## E,16\n",
        "##\n",
        "import glob\n",
        "filenames= glob.glob(\"data.csv\")\n",
        "data = open(\"data.csv\",\"r\").readlines()\n",
        "data = [line[:-1] for line in data]\n",
        "data = [line.replace(\"\\t\",\",\") for line in data]\n",
        "data = [line.split(\",\") for line in data]\n",
        "letras = [line[0] for line in data]\n",
        "columna = [line[5:] for line in data]\n",
        "columna = [[row for row in line if len(row)==5] for line in columna]\n",
        "columna = [[int(row[4]) for row in line] for line in columna]\n",
        "numeros=[]\n",
        "for row in columna:\n",
        "  a=0\n",
        "  for num in row:\n",
        "    a = a+num\n",
        "  numeros.append(a)\n",
        "numeros\n",
        "for i in range(len(numeros)):\n",
        "  resp= str(letras[i])+\",\"+str(numeros[i])\n",
        "  print(resp)"
      ],
      "execution_count": 0,
      "outputs": []
    }
  ]
}