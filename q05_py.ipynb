{
  "nbformat": 4,
  "nbformat_minor": 0,
  "metadata": {
    "colab": {
      "name": "q05.py",
      "version": "0.3.2",
      "provenance": [],
      "include_colab_link": true
    },
    "kernelspec": {
      "name": "python3",
      "display_name": "Python 3"
    }
  },
  "cells": [
    {
      "cell_type": "markdown",
      "metadata": {
        "id": "view-in-github",
        "colab_type": "text"
      },
      "source": [
        "<a href=\"https://colab.research.google.com/github/gago27/python-q1.py/blob/master/q05_py.ipynb\" target=\"_parent\"><img src=\"https://colab.research.google.com/assets/colab-badge.svg\" alt=\"Open In Colab\"/></a>"
      ]
    },
    {
      "cell_type": "code",
      "metadata": {
        "id": "11yIPu-cqDXz",
        "colab_type": "code",
        "outputId": "e87c0fa2-1e21-472f-989a-be6b66983480",
        "colab": {
          "base_uri": "https://localhost:8080/",
          "height": 102
        }
      },
      "source": [
        "##\n",
        "## Imprima el valor maximo y minimo por cada letra de la columa 1.\n",
        "##\n",
        "## A,9,1\n",
        "## B,9,1\n",
        "## C,9,0\n",
        "## D,7,1\n",
        "## E,9,1\n",
        "##\n",
        "import glob\n",
        "filenames= glob.glob(\"data.csv\")\n",
        "data = open(\"data.csv\", \"r\").readlines()\n",
        "data = [line[:-1] for line in data]\n",
        "data = [line.replace(\"\\t\",\",\") for line in data]\n",
        "data = [line.split(\",\") for line in data]\n",
        "data = sorted([[line[0], line[1]] for line in data])\n",
        "datas = [line[0] for line in data]\n",
        "datas = set(datas)\n",
        "fin=[]\n",
        "for letra in datas:\n",
        "  h = []\n",
        "  for m in data:\n",
        "    if letra == m[0]:\n",
        "      h = h+[m[1]]\n",
        "  j = [letra, max(h), min(h)]\n",
        "  fin=fin+[j]\n",
        "fin = sorted(fin)\n",
        "for ya in fin:\n",
        "  resp= ya[0]+\",\"+str(ya[1])+\",\"+str(ya[2])\n",
        "  print(resp)"
      ],
      "execution_count": 0,
      "outputs": [
        {
          "output_type": "stream",
          "text": [
            "A,9,1\n",
            "B,9,1\n",
            "C,9,0\n",
            "D,7,1\n",
            "E,9,1\n"
          ],
          "name": "stdout"
        }
      ]
    },
    {
      "cell_type": "code",
      "metadata": {
        "id": "dGYwqH1asQrS",
        "colab_type": "code",
        "outputId": "daa0cee2-da77-4643-91e2-20174468a397",
        "colab": {
          "base_uri": "https://localhost:8080/",
          "height": 102
        }
      },
      "source": [
        "fin"
      ],
      "execution_count": 0,
      "outputs": [
        {
          "output_type": "execute_result",
          "data": {
            "text/plain": [
              "[['A', '9', '1'],\n",
              " ['B', '9', '1'],\n",
              " ['C', '9', '0'],\n",
              " ['D', '7', '1'],\n",
              " ['E', '9', '1']]"
            ]
          },
          "metadata": {
            "tags": []
          },
          "execution_count": 30
        }
      ]
    }
  ]
}