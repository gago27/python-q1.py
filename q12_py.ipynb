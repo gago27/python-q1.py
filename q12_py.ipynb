{
  "nbformat": 4,
  "nbformat_minor": 0,
  "metadata": {
    "colab": {
      "name": "q12.py",
      "version": "0.3.2",
      "provenance": [],
      "include_colab_link": true
    },
    "kernelspec": {
      "name": "python3",
      "display_name": "Python 3"
    }
  },
  "cells": [
    {
      "cell_type": "markdown",
      "metadata": {
        "id": "view-in-github",
        "colab_type": "text"
      },
      "source": [
        "<a href=\"https://colab.research.google.com/github/gago27/python-q1.py/blob/master/q12_py.ipynb\" target=\"_parent\"><img src=\"https://colab.research.google.com/assets/colab-badge.svg\" alt=\"Open In Colab\"/></a>"
      ]
    },
    {
      "cell_type": "code",
      "metadata": {
        "id": "QpfTkY-RlsuM",
        "colab_type": "code",
        "colab": {
          "base_uri": "https://localhost:8080/",
          "height": 136
        },
        "outputId": "5f0fb684-2de4-493c-9f78-63609b4a6376"
      },
      "source": [
        "    \n",
        "##\n",
        "## Imprima la suma de la columna 2 por cada letra \n",
        "## de la columna 4, ordnados alfabeticamente.\n",
        "##\n",
        "## a,114\n",
        "## b,40\n",
        "## c,91\n",
        "## d,65\n",
        "## e,79\n",
        "## f,110\n",
        "## g,35\n",
        "##\n",
        "import glob\n",
        "filenames = glob.glob(\"data.csv\")\n",
        "data = open(\"data.csv\", \"r\").readlines()\n",
        "data = [line[:-1] for line in data]\n",
        "data = [line.replace(\"\\t\",\",\") for line in data]\n",
        "data = [line.split(\",\") for line in data]\n",
        "datas = [[row for row in line if len(row)==1] for line in data]\n",
        "datas = [line[1:] for line in datas]\n",
        "datas1 = [line[2:] for line in datas]\n",
        "a = []\n",
        "for i in datas1:\n",
        "  for m in i:\n",
        "    a = a+[m]\n",
        "a= set(a)\n",
        "a= list(a)\n",
        "a= sorted(a)\n",
        "resp=[]\n",
        "for letra in a:\n",
        "  inic=[letra]\n",
        "  count=0\n",
        "  for row in datas:\n",
        "    if letra in row:\n",
        "      count= count+int(row[0])\n",
        "  inic= inic+[count]\n",
        "  resp= resp+[inic]\n",
        "for line in resp:\n",
        "  soluc= line[0]+\",\"+str(line[1])\n",
        "  print(soluc)"
      ],
      "execution_count": 36,
      "outputs": [
        {
          "output_type": "stream",
          "text": [
            "a,114\n",
            "b,40\n",
            "c,91\n",
            "d,65\n",
            "e,79\n",
            "f,110\n",
            "g,35\n"
          ],
          "name": "stdout"
        }
      ]
    },
    {
      "cell_type": "code",
      "metadata": {
        "id": "vqf9604tnAQ5",
        "colab_type": "code",
        "colab": {
          "base_uri": "https://localhost:8080/",
          "height": 697
        },
        "outputId": "d481844d-449c-456b-828c-bb29c5055342"
      },
      "source": [
        "datas"
      ],
      "execution_count": 19,
      "outputs": [
        {
          "output_type": "execute_result",
          "data": {
            "text/plain": [
              "[['1', 'b', 'g', 'f'],\n",
              " ['2', 'a', 'f', 'c'],\n",
              " ['5', 'f', 'e', 'a', 'c'],\n",
              " ['3', 'a', 'b'],\n",
              " ['6', 'f', 'g', 'd', 'a'],\n",
              " ['7', 'c', 'd'],\n",
              " ['9', 'g', 'd', 'a'],\n",
              " ['1', 'b', 'a'],\n",
              " ['2', 'd', 'e', 'a', 'f'],\n",
              " ['3', 'd', 'b', 'g', 'f'],\n",
              " ['7', 'd', 'c', 'f', 'b'],\n",
              " ['5', 'd', 'e', 'a', 'c'],\n",
              " ['3', 'g', 'e', 'f', 'b'],\n",
              " ['8', 'c', 'f'],\n",
              " ['9', 'd', 'b'],\n",
              " ['1', 'f', 'e'],\n",
              " ['3', 'e', 'b', 'f'],\n",
              " ['5', 'g', 'a'],\n",
              " ['8', 'e', 'c', 'f', 'a'],\n",
              " ['9', 'e', 'a'],\n",
              " ['7', 'e', 'f'],\n",
              " ['3', 'c', 'b', 'g'],\n",
              " ['5', 'c', 'f', 'a'],\n",
              " ['1', 'f', 'a', 'd'],\n",
              " ['4', 'c', 'd'],\n",
              " ['6', 'e', 'd', 'c'],\n",
              " ['8', 'a', 'e', 'f'],\n",
              " ['5', 'c', 'a', 'g'],\n",
              " ['6', 'f', 'e'],\n",
              " ['0', 'f', 'c', 'a', 'g'],\n",
              " ['1', 'b', 'f'],\n",
              " ['2', 'b', 'f'],\n",
              " ['5', 'a', 'c'],\n",
              " ['4', 'b', 'f', 'c'],\n",
              " ['6', 'f', 'a', 'e'],\n",
              " ['7', 'a', 'f'],\n",
              " ['8', 'c', 'a'],\n",
              " ['9', 'c', 'a', 'e', 'f'],\n",
              " ['1', 'e', 'd'],\n",
              " ['5', 'f', 'a', 'd']]"
            ]
          },
          "metadata": {
            "tags": []
          },
          "execution_count": 19
        }
      ]
    }
  ]
}